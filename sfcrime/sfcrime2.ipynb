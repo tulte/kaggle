{
 "metadata": {
  "name": "",
  "signature": "sha256:d3f3c0f9bdee12819b90bf7a57f75fdbf879bd47ead8a2c44f74229b097baaf0"
 },
 "nbformat": 3,
 "nbformat_minor": 0,
 "worksheets": [
  {
   "cells": [
    {
     "cell_type": "code",
     "collapsed": false,
     "input": [
      "import pandas as pd\n",
      "import numpy as np\n",
      "from datetime import datetime\n",
      "import seaborn as sns\n",
      "\n",
      "from sklearn.cluster import KMeans\n",
      "from sklearn.preprocessing import StandardScaler\n",
      "from sklearn.feature_extraction import DictVectorizer\n",
      "from sklearn.ensemble import RandomForestClassifier\n",
      "from sklearn.cross_validation import train_test_split\n",
      "from sklearn import neighbors\n",
      "from sklearn.decomposition import PCA "
     ],
     "language": "python",
     "metadata": {},
     "outputs": [],
     "prompt_number": 243
    },
    {
     "cell_type": "code",
     "collapsed": false,
     "input": [
      "sns.set()"
     ],
     "language": "python",
     "metadata": {},
     "outputs": [],
     "prompt_number": 244
    },
    {
     "cell_type": "code",
     "collapsed": false,
     "input": [
      "def add_district_columns(df):\n",
      "    dic = df[['PdDistrict']].T.to_dict().values()\n",
      "    vect = DictVectorizer()\n",
      "    df_district = pd.DataFrame(vect.fit_transform(dic).toarray())\n",
      "    df_district.columns = [name.split('=')[1].lower() for name in vect.get_feature_names()]\n",
      "    return df.join(df_district)"
     ],
     "language": "python",
     "metadata": {},
     "outputs": [],
     "prompt_number": 245
    },
    {
     "cell_type": "code",
     "collapsed": false,
     "input": [
      "def get_knlocation(df):\n",
      "    knn = neighbors.KNeighborsClassifier(n_neighbors=50)\n",
      "    knn.fit(df[['X','Y']],df['Category'])\n",
      "    return knn"
     ],
     "language": "python",
     "metadata": {},
     "outputs": [],
     "prompt_number": 246
    },
    {
     "cell_type": "code",
     "collapsed": false,
     "input": [
      "def add_location_columns(df):\n",
      "    km = KMeans(n_clusters=25)\n",
      "    km.fit(df[['X','Y']])\n",
      "    df['target_location'] = km.predict(df[['X','Y']])\n",
      "    return df"
     ],
     "language": "python",
     "metadata": {},
     "outputs": [],
     "prompt_number": 247
    },
    {
     "cell_type": "code",
     "collapsed": false,
     "input": [
      "def add_workdate_columns(df):\n",
      "    dic = df[['DayOfWeek']].T.to_dict().values()\n",
      "    vect = DictVectorizer()\n",
      "    df_weekday = pd.DataFrame(vect.fit_transform(dic).toarray())\n",
      "    df_weekday.columns = ['target_' + name.split('=')[1].lower() for name in vect.get_feature_names()]\n",
      "    return df.join(df_weekday)"
     ],
     "language": "python",
     "metadata": {},
     "outputs": [],
     "prompt_number": 248
    },
    {
     "cell_type": "code",
     "collapsed": false,
     "input": [
      "def add_standard_date_columns(df):\n",
      "    df['target_hour'] = df.apply(lambda row: datetime.strptime(row['Dates'],'%Y-%m-%d %H:%M:%S').hour, axis=1)\n",
      "    df['target_year'] = df.apply(lambda row: datetime.strptime(row['Dates'],'%Y-%m-%d %H:%M:%S').year, axis=1)\n",
      "    return df"
     ],
     "language": "python",
     "metadata": {},
     "outputs": [],
     "prompt_number": 249
    },
    {
     "cell_type": "code",
     "collapsed": false,
     "input": [
      "def get_target_columns(df):\n",
      "    return [col for col in df.columns if col.startswith('target_')]"
     ],
     "language": "python",
     "metadata": {},
     "outputs": [],
     "prompt_number": 250
    },
    {
     "cell_type": "code",
     "collapsed": false,
     "input": [
      "def get_df(file_name):\n",
      "    df = pd.read_csv(file_name)\n",
      "    df = add_standard_date_columns(df)\n",
      "    df = add_workdate_columns(df)\n",
      "    #df = add_knlocation_columns(df)\n",
      "    #df = add_district_columns(df)\n",
      "    return df"
     ],
     "language": "python",
     "metadata": {},
     "outputs": [],
     "prompt_number": 251
    },
    {
     "cell_type": "code",
     "collapsed": false,
     "input": [
      "df_train = get_df('train.csv')"
     ],
     "language": "python",
     "metadata": {},
     "outputs": [],
     "prompt_number": 252
    },
    {
     "cell_type": "code",
     "collapsed": false,
     "input": [
      "knn = get_knlocation(df_train)\n",
      "df_train['location'] = knn.predict(df_train[['X','Y']])"
     ],
     "language": "python",
     "metadata": {},
     "outputs": [],
     "prompt_number": 253
    },
    {
     "cell_type": "code",
     "collapsed": false,
     "input": [
      "df_train = df_train.join(pd.get_dummies(df_train['location'],prefix='target'))"
     ],
     "language": "python",
     "metadata": {},
     "outputs": [],
     "prompt_number": 254
    },
    {
     "cell_type": "code",
     "collapsed": false,
     "input": [
      "columns = get_target_columns(df_train)\n",
      "columns"
     ],
     "language": "python",
     "metadata": {},
     "outputs": [
      {
       "metadata": {},
       "output_type": "pyout",
       "prompt_number": 255,
       "text": [
        "['target_hour',\n",
        " 'target_year',\n",
        " 'target_friday',\n",
        " 'target_monday',\n",
        " 'target_saturday',\n",
        " 'target_sunday',\n",
        " 'target_thursday',\n",
        " 'target_tuesday',\n",
        " 'target_wednesday',\n",
        " 'target_ARSON',\n",
        " 'target_ASSAULT',\n",
        " 'target_BURGLARY',\n",
        " 'target_DISORDERLY CONDUCT',\n",
        " 'target_DRUG/NARCOTIC',\n",
        " 'target_DRUNKENNESS',\n",
        " 'target_FORGERY/COUNTERFEITING',\n",
        " 'target_FRAUD',\n",
        " 'target_LARCENY/THEFT',\n",
        " 'target_LOITERING',\n",
        " 'target_MISSING PERSON',\n",
        " 'target_NON-CRIMINAL',\n",
        " 'target_OTHER OFFENSES',\n",
        " 'target_PROSTITUTION',\n",
        " 'target_ROBBERY',\n",
        " 'target_RUNAWAY',\n",
        " 'target_SECONDARY CODES',\n",
        " 'target_SEX OFFENSES FORCIBLE',\n",
        " 'target_SUSPICIOUS OCC',\n",
        " 'target_TRESPASS',\n",
        " 'target_VANDALISM',\n",
        " 'target_VEHICLE THEFT',\n",
        " 'target_WARRANTS',\n",
        " 'target_WEAPON LAWS']"
       ]
      }
     ],
     "prompt_number": 255
    },
    {
     "cell_type": "code",
     "collapsed": false,
     "input": [
      "pca = PCA(n_components=10)\n",
      "pca.fit(df_train[columns])"
     ],
     "language": "python",
     "metadata": {},
     "outputs": [
      {
       "metadata": {},
       "output_type": "pyout",
       "prompt_number": 256,
       "text": [
        "PCA(copy=True, n_components=10, whiten=False)"
       ]
      }
     ],
     "prompt_number": 256
    },
    {
     "cell_type": "code",
     "collapsed": false,
     "input": [],
     "language": "python",
     "metadata": {},
     "outputs": [],
     "prompt_number": 256
    },
    {
     "cell_type": "code",
     "collapsed": false,
     "input": [
      "X_train = df_train[columns]\n",
      "y_train = df_train['Category']"
     ],
     "language": "python",
     "metadata": {},
     "outputs": [],
     "prompt_number": 257
    },
    {
     "cell_type": "code",
     "collapsed": false,
     "input": [
      "rf = RandomForestClassifier()\n",
      "rf.fit(X_train,y_train)"
     ],
     "language": "python",
     "metadata": {},
     "outputs": [
      {
       "metadata": {},
       "output_type": "pyout",
       "prompt_number": 258,
       "text": [
        "RandomForestClassifier(bootstrap=True, compute_importances=None,\n",
        "            criterion='gini', max_depth=None, max_features='auto',\n",
        "            max_leaf_nodes=None, min_density=None, min_samples_leaf=1,\n",
        "            min_samples_split=2, n_estimators=10, n_jobs=1,\n",
        "            oob_score=False, random_state=None, verbose=0)"
       ]
      }
     ],
     "prompt_number": 258
    },
    {
     "cell_type": "code",
     "collapsed": false,
     "input": [
      "df_test = get_df('test.csv')"
     ],
     "language": "python",
     "metadata": {},
     "outputs": [],
     "prompt_number": 259
    },
    {
     "cell_type": "code",
     "collapsed": false,
     "input": [
      "df_test['location'] = knn.predict(df_test[['X','Y']])\n",
      "df_test = df_test.join(pd.get_dummies(df_test['location'],prefix='target'))"
     ],
     "language": "python",
     "metadata": {},
     "outputs": [],
     "prompt_number": 260
    },
    {
     "cell_type": "code",
     "collapsed": false,
     "input": [
      "X_test = df_test[columns]"
     ],
     "language": "python",
     "metadata": {},
     "outputs": [],
     "prompt_number": 261
    },
    {
     "cell_type": "code",
     "collapsed": false,
     "input": [
      "predict_probs = rf.predict_proba(X_test)"
     ],
     "language": "python",
     "metadata": {},
     "outputs": [],
     "prompt_number": 262
    },
    {
     "cell_type": "code",
     "collapsed": false,
     "input": [
      "result = pd.DataFrame(data=predict_probs,columns=rf.classes_)"
     ],
     "language": "python",
     "metadata": {},
     "outputs": [],
     "prompt_number": 263
    },
    {
     "cell_type": "code",
     "collapsed": false,
     "input": [
      "result.head()"
     ],
     "language": "python",
     "metadata": {},
     "outputs": [
      {
       "html": [
        "<div style=\"max-height:1000px;max-width:1500px;overflow:auto;\">\n",
        "<table border=\"1\" class=\"dataframe\">\n",
        "  <thead>\n",
        "    <tr style=\"text-align: right;\">\n",
        "      <th></th>\n",
        "      <th>ARSON</th>\n",
        "      <th>ASSAULT</th>\n",
        "      <th>BAD CHECKS</th>\n",
        "      <th>BRIBERY</th>\n",
        "      <th>BURGLARY</th>\n",
        "      <th>DISORDERLY CONDUCT</th>\n",
        "      <th>DRIVING UNDER THE INFLUENCE</th>\n",
        "      <th>DRUG/NARCOTIC</th>\n",
        "      <th>DRUNKENNESS</th>\n",
        "      <th>EMBEZZLEMENT</th>\n",
        "      <th>...</th>\n",
        "      <th>SEX OFFENSES NON FORCIBLE</th>\n",
        "      <th>STOLEN PROPERTY</th>\n",
        "      <th>SUICIDE</th>\n",
        "      <th>SUSPICIOUS OCC</th>\n",
        "      <th>TREA</th>\n",
        "      <th>TRESPASS</th>\n",
        "      <th>VANDALISM</th>\n",
        "      <th>VEHICLE THEFT</th>\n",
        "      <th>WARRANTS</th>\n",
        "      <th>WEAPON LAWS</th>\n",
        "    </tr>\n",
        "  </thead>\n",
        "  <tbody>\n",
        "    <tr>\n",
        "      <th>0</th>\n",
        "      <td> 0</td>\n",
        "      <td> 0.230399</td>\n",
        "      <td> 0</td>\n",
        "      <td> 0</td>\n",
        "      <td> 0.000000</td>\n",
        "      <td> 0</td>\n",
        "      <td> 0</td>\n",
        "      <td> 0.000000</td>\n",
        "      <td> 0</td>\n",
        "      <td> 0</td>\n",
        "      <td>...</td>\n",
        "      <td> 0</td>\n",
        "      <td> 0</td>\n",
        "      <td> 0</td>\n",
        "      <td> 0.000000</td>\n",
        "      <td> 0</td>\n",
        "      <td> 0</td>\n",
        "      <td> 0.073168</td>\n",
        "      <td> 0.207592</td>\n",
        "      <td> 0.000000</td>\n",
        "      <td> 0.000000</td>\n",
        "    </tr>\n",
        "    <tr>\n",
        "      <th>1</th>\n",
        "      <td> 0</td>\n",
        "      <td> 0.052226</td>\n",
        "      <td> 0</td>\n",
        "      <td> 0</td>\n",
        "      <td> 0.040646</td>\n",
        "      <td> 0</td>\n",
        "      <td> 0</td>\n",
        "      <td> 0.000000</td>\n",
        "      <td> 0</td>\n",
        "      <td> 0</td>\n",
        "      <td>...</td>\n",
        "      <td> 0</td>\n",
        "      <td> 0</td>\n",
        "      <td> 0</td>\n",
        "      <td> 0.028692</td>\n",
        "      <td> 0</td>\n",
        "      <td> 0</td>\n",
        "      <td> 0.124426</td>\n",
        "      <td> 0.050539</td>\n",
        "      <td> 0.050185</td>\n",
        "      <td> 0.000000</td>\n",
        "    </tr>\n",
        "    <tr>\n",
        "      <th>2</th>\n",
        "      <td> 0</td>\n",
        "      <td> 0.089702</td>\n",
        "      <td> 0</td>\n",
        "      <td> 0</td>\n",
        "      <td> 0.221797</td>\n",
        "      <td> 0</td>\n",
        "      <td> 0</td>\n",
        "      <td> 0.000000</td>\n",
        "      <td> 0</td>\n",
        "      <td> 0</td>\n",
        "      <td>...</td>\n",
        "      <td> 0</td>\n",
        "      <td> 0</td>\n",
        "      <td> 0</td>\n",
        "      <td> 0.000000</td>\n",
        "      <td> 0</td>\n",
        "      <td> 0</td>\n",
        "      <td> 0.134670</td>\n",
        "      <td> 0.152960</td>\n",
        "      <td> 0.000000</td>\n",
        "      <td> 0.000000</td>\n",
        "    </tr>\n",
        "    <tr>\n",
        "      <th>3</th>\n",
        "      <td> 0</td>\n",
        "      <td> 0.128000</td>\n",
        "      <td> 0</td>\n",
        "      <td> 0</td>\n",
        "      <td> 0.000000</td>\n",
        "      <td> 0</td>\n",
        "      <td> 0</td>\n",
        "      <td> 0.081665</td>\n",
        "      <td> 0</td>\n",
        "      <td> 0</td>\n",
        "      <td>...</td>\n",
        "      <td> 0</td>\n",
        "      <td> 0</td>\n",
        "      <td> 0</td>\n",
        "      <td> 0.022254</td>\n",
        "      <td> 0</td>\n",
        "      <td> 0</td>\n",
        "      <td> 0.161724</td>\n",
        "      <td> 0.086991</td>\n",
        "      <td> 0.052043</td>\n",
        "      <td> 0.058009</td>\n",
        "    </tr>\n",
        "    <tr>\n",
        "      <th>4</th>\n",
        "      <td> 0</td>\n",
        "      <td> 0.128000</td>\n",
        "      <td> 0</td>\n",
        "      <td> 0</td>\n",
        "      <td> 0.000000</td>\n",
        "      <td> 0</td>\n",
        "      <td> 0</td>\n",
        "      <td> 0.081665</td>\n",
        "      <td> 0</td>\n",
        "      <td> 0</td>\n",
        "      <td>...</td>\n",
        "      <td> 0</td>\n",
        "      <td> 0</td>\n",
        "      <td> 0</td>\n",
        "      <td> 0.022254</td>\n",
        "      <td> 0</td>\n",
        "      <td> 0</td>\n",
        "      <td> 0.161724</td>\n",
        "      <td> 0.086991</td>\n",
        "      <td> 0.052043</td>\n",
        "      <td> 0.058009</td>\n",
        "    </tr>\n",
        "  </tbody>\n",
        "</table>\n",
        "<p>5 rows \u00d7 39 columns</p>\n",
        "</div>"
       ],
       "metadata": {},
       "output_type": "pyout",
       "prompt_number": 264,
       "text": [
        "   ARSON   ASSAULT  BAD CHECKS  BRIBERY  BURGLARY  DISORDERLY CONDUCT  \\\n",
        "0      0  0.230399           0        0  0.000000                   0   \n",
        "1      0  0.052226           0        0  0.040646                   0   \n",
        "2      0  0.089702           0        0  0.221797                   0   \n",
        "3      0  0.128000           0        0  0.000000                   0   \n",
        "4      0  0.128000           0        0  0.000000                   0   \n",
        "\n",
        "   DRIVING UNDER THE INFLUENCE  DRUG/NARCOTIC  DRUNKENNESS  EMBEZZLEMENT  \\\n",
        "0                            0       0.000000            0             0   \n",
        "1                            0       0.000000            0             0   \n",
        "2                            0       0.000000            0             0   \n",
        "3                            0       0.081665            0             0   \n",
        "4                            0       0.081665            0             0   \n",
        "\n",
        "      ...       SEX OFFENSES NON FORCIBLE  STOLEN PROPERTY  SUICIDE  \\\n",
        "0     ...                               0                0        0   \n",
        "1     ...                               0                0        0   \n",
        "2     ...                               0                0        0   \n",
        "3     ...                               0                0        0   \n",
        "4     ...                               0                0        0   \n",
        "\n",
        "   SUSPICIOUS OCC  TREA  TRESPASS  VANDALISM  VEHICLE THEFT  WARRANTS  \\\n",
        "0        0.000000     0         0   0.073168       0.207592  0.000000   \n",
        "1        0.028692     0         0   0.124426       0.050539  0.050185   \n",
        "2        0.000000     0         0   0.134670       0.152960  0.000000   \n",
        "3        0.022254     0         0   0.161724       0.086991  0.052043   \n",
        "4        0.022254     0         0   0.161724       0.086991  0.052043   \n",
        "\n",
        "   WEAPON LAWS  \n",
        "0     0.000000  \n",
        "1     0.000000  \n",
        "2     0.000000  \n",
        "3     0.058009  \n",
        "4     0.058009  \n",
        "\n",
        "[5 rows x 39 columns]"
       ]
      }
     ],
     "prompt_number": 264
    },
    {
     "cell_type": "code",
     "collapsed": false,
     "input": [
      "result.index.name = 'Id'"
     ],
     "language": "python",
     "metadata": {},
     "outputs": [],
     "prompt_number": 265
    },
    {
     "cell_type": "code",
     "collapsed": false,
     "input": [
      "result.to_csv('submission.csv')"
     ],
     "language": "python",
     "metadata": {},
     "outputs": [],
     "prompt_number": 266
    },
    {
     "cell_type": "code",
     "collapsed": false,
     "input": [
      "df_test.columns"
     ],
     "language": "python",
     "metadata": {},
     "outputs": [
      {
       "metadata": {},
       "output_type": "pyout",
       "prompt_number": 267,
       "text": [
        "Index([u'Id', u'Dates', u'DayOfWeek', u'PdDistrict', u'Address', u'X', u'Y', u'target_hour', u'target_year', u'target_friday', u'target_monday', u'target_saturday', u'target_sunday', u'target_thursday', u'target_tuesday', u'target_wednesday', u'location', u'target_ARSON', u'target_ASSAULT', u'target_BURGLARY', u'target_DISORDERLY CONDUCT', u'target_DRUG/NARCOTIC', u'target_DRUNKENNESS', u'target_FORGERY/COUNTERFEITING', u'target_FRAUD', u'target_LARCENY/THEFT', u'target_LOITERING', u'target_MISSING PERSON', u'target_NON-CRIMINAL', u'target_OTHER OFFENSES', u'target_PROSTITUTION', u'target_ROBBERY', u'target_RUNAWAY', u'target_SECONDARY CODES', u'target_SEX OFFENSES FORCIBLE', u'target_SUSPICIOUS OCC', u'target_TRESPASS', u'target_VANDALISM', u'target_VEHICLE THEFT', u'target_WARRANTS', u'target_WEAPON LAWS'], dtype='object')"
       ]
      }
     ],
     "prompt_number": 267
    },
    {
     "cell_type": "code",
     "collapsed": false,
     "input": [
      "sns.pairplot"
     ],
     "language": "python",
     "metadata": {},
     "outputs": [
      {
       "metadata": {},
       "output_type": "pyout",
       "prompt_number": 268,
       "text": [
        "<function seaborn.linearmodels.pairplot>"
       ]
      }
     ],
     "prompt_number": 268
    }
   ],
   "metadata": {}
  }
 ]
}