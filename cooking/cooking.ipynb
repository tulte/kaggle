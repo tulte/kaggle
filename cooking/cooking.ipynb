{
 "metadata": {
  "name": "",
  "signature": "sha256:63f6a6f15888cd950f3bd679d787845db02df3dc53011070090af0055479993e"
 },
 "nbformat": 3,
 "nbformat_minor": 0,
 "worksheets": [
  {
   "cells": [
    {
     "cell_type": "code",
     "collapsed": false,
     "input": [
      "import pandas as pd\n",
      "import numpy as np\n",
      "import json\n",
      "import collections\n",
      "from sklearn.feature_extraction.text import TfidfVectorizer\n",
      "from sklearn.ensemble import RandomForestClassifier\n",
      "from sklearn.ensemble import GradientBoostingClassifier\n",
      "from sklearn.cross_validation import train_test_split\n",
      "from sklearn.cross_validation import cross_val_score\n",
      "from sklearn import metrics"
     ],
     "language": "python",
     "metadata": {},
     "outputs": [],
     "prompt_number": 34
    },
    {
     "cell_type": "code",
     "collapsed": false,
     "input": [
      "json_data=open('train.json').read()\n",
      "train = json.loads(json_data)"
     ],
     "language": "python",
     "metadata": {},
     "outputs": [],
     "prompt_number": 35
    },
    {
     "cell_type": "code",
     "collapsed": false,
     "input": [
      "def format_ingredient(ingredient):\n",
      "    ingredient_split = ingredient.split(' ')\n",
      "    return ingredient_split[-1]"
     ],
     "language": "python",
     "metadata": {},
     "outputs": [],
     "prompt_number": 36
    },
    {
     "cell_type": "code",
     "collapsed": false,
     "input": [
      "def get_cuisines(train):\n",
      "    ret = []\n",
      "    for entry in train:\n",
      "        if entry['cuisine'] not in ret:\n",
      "            ret.append(entry['cuisine'])\n",
      "    return ret"
     ],
     "language": "python",
     "metadata": {},
     "outputs": [],
     "prompt_number": 37
    },
    {
     "cell_type": "code",
     "collapsed": false,
     "input": [
      "def get_ingredient_for_cuisine(train,cuisine):\n",
      "    corpus = []\n",
      "    for entry in train:\n",
      "        if entry['cuisine'] == cuisine:\n",
      "            line = ''\n",
      "            for ingredient in entry['ingredients']:\n",
      "                line = line + ' ' + ingredient\n",
      "            corpus.append(line)\n",
      "    vect = TfidfVectorizer(max_features=45)\n",
      "    vect.fit_transform(corpus)\n",
      "    vocabular_tfid = dict(zip(vect.get_feature_names(), vect.idf_))\n",
      "    return sorted(vocabular_tfid, key=vocabular_tfid.__getitem__, reverse=True)"
     ],
     "language": "python",
     "metadata": {},
     "outputs": [],
     "prompt_number": 38
    },
    {
     "cell_type": "code",
     "collapsed": false,
     "input": [
      "def binary_ingredient(entry,ingredients):\n",
      "    ret = {}\n",
      "    for ingredient in ingredients:\n",
      "        ret[ingredient] = 1 if ingredient in entry['ingredients'] else 0\n",
      "    return ret"
     ],
     "language": "python",
     "metadata": {},
     "outputs": [],
     "prompt_number": 39
    },
    {
     "cell_type": "code",
     "collapsed": false,
     "input": [
      "def format_ingredient_data(train):\n",
      "    for en_idx,entry in enumerate(train):\n",
      "        for in_idx,ingredient in enumerate(entry['ingredients']):\n",
      "            train[en_idx]['ingredients'][in_idx] = format_ingredient(ingredient)\n",
      "    return train"
     ],
     "language": "python",
     "metadata": {},
     "outputs": [],
     "prompt_number": 40
    },
    {
     "cell_type": "code",
     "collapsed": false,
     "input": [
      "train_formated = format_ingredient_data(train)"
     ],
     "language": "python",
     "metadata": {},
     "outputs": [],
     "prompt_number": 41
    },
    {
     "cell_type": "code",
     "collapsed": false,
     "input": [
      "ingredients = []\n",
      "cuisines = get_cuisines(train_formated)\n",
      "for cuisine in cuisines:\n",
      "    ingredients.extend(x for x in get_ingredient_for_cuisine(train_formated,cuisine)[:42] if x not in ingredients)"
     ],
     "language": "python",
     "metadata": {},
     "outputs": [],
     "prompt_number": 42
    },
    {
     "cell_type": "code",
     "collapsed": false,
     "input": [
      "train_data = []\n",
      "for entry in train_formated:\n",
      "    line = binary_ingredient(entry,ingredients)\n",
      "    line['id'] = entry['id']\n",
      "    line['cuisine'] = entry['cuisine']\n",
      "    train_data.append(line)\n",
      "train_df = pd.DataFrame(train_data)"
     ],
     "language": "python",
     "metadata": {},
     "outputs": [],
     "prompt_number": 43
    },
    {
     "cell_type": "code",
     "collapsed": false,
     "input": [
      "train_df.to_csv('out.csv')"
     ],
     "language": "python",
     "metadata": {},
     "outputs": [],
     "prompt_number": 44
    },
    {
     "cell_type": "code",
     "collapsed": false,
     "input": [
      "X_train, X_test, y_train, y_test = train_test_split(train_df[ingredients],train_df['cuisine'])"
     ],
     "language": "python",
     "metadata": {},
     "outputs": [],
     "prompt_number": 45
    },
    {
     "cell_type": "code",
     "collapsed": false,
     "input": [
      "rf = RandomForestClassifier(n_estimators=200)\n",
      "rf.fit(X_train,y_train)"
     ],
     "language": "python",
     "metadata": {},
     "outputs": [
      {
       "metadata": {},
       "output_type": "pyout",
       "prompt_number": 46,
       "text": [
        "RandomForestClassifier(bootstrap=True, class_weight=None, criterion='gini',\n",
        "            max_depth=None, max_features='auto', max_leaf_nodes=None,\n",
        "            min_samples_leaf=1, min_samples_split=2,\n",
        "            min_weight_fraction_leaf=0.0, n_estimators=200, n_jobs=1,\n",
        "            oob_score=False, random_state=None, verbose=0,\n",
        "            warm_start=False)"
       ]
      }
     ],
     "prompt_number": 46
    },
    {
     "cell_type": "code",
     "collapsed": false,
     "input": [
      "predict = rf.predict(X_test)"
     ],
     "language": "python",
     "metadata": {},
     "outputs": [],
     "prompt_number": 47
    },
    {
     "cell_type": "code",
     "collapsed": false,
     "input": [
      "metrics.accuracy_score(y_test,predict)"
     ],
     "language": "python",
     "metadata": {},
     "outputs": [
      {
       "metadata": {},
       "output_type": "pyout",
       "prompt_number": 48,
       "text": [
        "0.40446500402252616"
       ]
      }
     ]
    },
    {
     "cell_type": "code",
     "collapsed": false,
     "input": [
      "scores = cross_val_score(rf, train_df[ingredients], train_df['cuisine'], cv=5)\n",
      "print np.mean(scores), scores"
     ],
     "language": "python",
     "metadata": {},
     "outputs": []
    },
    {
     "cell_type": "code",
     "collapsed": false,
     "input": [],
     "language": "python",
     "metadata": {},
     "outputs": []
    }
   ],
   "metadata": {}
  }
 ]
}