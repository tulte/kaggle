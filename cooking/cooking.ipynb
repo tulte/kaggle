{
 "metadata": {
  "name": "",
  "signature": "sha256:f0364f535d328fb5025df1f997698f8f293f51f6b59a86e8fa4002d75145630e"
 },
 "nbformat": 3,
 "nbformat_minor": 0,
 "worksheets": [
  {
   "cells": [
    {
     "cell_type": "code",
     "collapsed": false,
     "input": [
      "import pandas as pd\n",
      "import numpy as np\n",
      "import json\n",
      "import collections\n",
      "from sklearn.feature_extraction.text import TfidfVectorizer\n",
      "from sklearn.ensemble import RandomForestClassifier\n",
      "from sklearn.ensemble import GradientBoostingClassifier\n",
      "from sklearn.cross_validation import train_test_split\n",
      "from sklearn.cross_validation import cross_val_score\n",
      "from textblob import TextBlob\n",
      "from sklearn import metrics"
     ],
     "language": "python",
     "metadata": {},
     "outputs": [],
     "prompt_number": 1
    },
    {
     "cell_type": "code",
     "collapsed": false,
     "input": [
      "json_data=open('train.json').read()\n",
      "train = json.loads(json_data)"
     ],
     "language": "python",
     "metadata": {},
     "outputs": [],
     "prompt_number": 2
    },
    {
     "cell_type": "code",
     "collapsed": false,
     "input": [
      "json_data=open('test.json').read()\n",
      "test = json.loads(json_data)"
     ],
     "language": "python",
     "metadata": {},
     "outputs": [],
     "prompt_number": 3
    },
    {
     "cell_type": "code",
     "collapsed": false,
     "input": [
      "def get_ingredients_nouns(ingredients):\n",
      "    ret = []\n",
      "    text = ', '.join(ingredients)\n",
      "    blob = TextBlob(text)\n",
      "    for index, tag in enumerate(blob.tags):\n",
      "        if len(tag[1]) >= 2 and tag[1][:2] == 'NN':\n",
      "            word = tag[0].singularize()\n",
      "            if word != '%':\n",
      "                ret.append(word)\n",
      "    return ret"
     ],
     "language": "python",
     "metadata": {},
     "outputs": [],
     "prompt_number": 4
    },
    {
     "cell_type": "code",
     "collapsed": false,
     "input": [
      "def format_ingredient(ingredient):\n",
      "    blob = TextBlob(ingredient)\n",
      "    for index, tag in enumerate(blob.tags):\n",
      "        if tag[1] in ['NN','NNP']:\n",
      "            return blob.words[index].singularize()\n",
      "    return ''"
     ],
     "language": "python",
     "metadata": {},
     "outputs": [],
     "prompt_number": 5
    },
    {
     "cell_type": "code",
     "collapsed": false,
     "input": [
      "def get_cuisines(train):\n",
      "    ret = []\n",
      "    for entry in train:\n",
      "        if entry['cuisine'] not in ret:\n",
      "            ret.append(entry['cuisine'])\n",
      "    return ret"
     ],
     "language": "python",
     "metadata": {},
     "outputs": [],
     "prompt_number": 6
    },
    {
     "cell_type": "code",
     "collapsed": false,
     "input": [
      "def get_ingredient_for_cuisine(train,cuisine,count):\n",
      "    corpus = []\n",
      "    for entry in train:\n",
      "        if entry['cuisine'] == cuisine:\n",
      "            line = ''\n",
      "            for ingredient in entry['ingredients']:\n",
      "                line = line + ' ' + ingredient\n",
      "            corpus.append(line)\n",
      "    vect = TfidfVectorizer(max_features=count)\n",
      "    vect.fit_transform(corpus)\n",
      "    vocabular_tfid = dict(zip(vect.get_feature_names(), vect.idf_))\n",
      "    return sorted(vocabular_tfid, key=vocabular_tfid.__getitem__, reverse=True)"
     ],
     "language": "python",
     "metadata": {},
     "outputs": [],
     "prompt_number": 7
    },
    {
     "cell_type": "code",
     "collapsed": false,
     "input": [
      "def binary_ingredient(entry,ingredients):\n",
      "    ret = {}\n",
      "    for ingredient in ingredients:\n",
      "        ret[ingredient] = 1 if ingredient in entry['ingredients'] else 0\n",
      "    return ret"
     ],
     "language": "python",
     "metadata": {},
     "outputs": [],
     "prompt_number": 8
    },
    {
     "cell_type": "code",
     "collapsed": false,
     "input": [
      "def format_ingredient_data(train):\n",
      "    ret = []\n",
      "    for idx,entry in enumerate(train):\n",
      "        new = {}\n",
      "        new['cuisine'] = entry['cuisine'] if 'cuisine' in entry else None\n",
      "        new['id'] = entry['id'] if 'id' in entry else None\n",
      "        new['ingredients'] = get_ingredients_nouns(entry['ingredients']) if 'ingredients' in entry else []\n",
      "        ret.append(new)\n",
      "    return ret"
     ],
     "language": "python",
     "metadata": {},
     "outputs": [],
     "prompt_number": 9
    },
    {
     "cell_type": "code",
     "collapsed": false,
     "input": [
      "def get_ingredients(data_formated,count1,count2):\n",
      "    ingredients = []\n",
      "    cuisines = get_cuisines(data_formated)\n",
      "    for cuisine in cuisines:\n",
      "        ingredients.extend(x for x in get_ingredient_for_cuisine(data_formated,cuisine,count1)[:count2] if x not in ingredients)\n",
      "    return ingredients"
     ],
     "language": "python",
     "metadata": {},
     "outputs": [],
     "prompt_number": 10
    },
    {
     "cell_type": "code",
     "collapsed": false,
     "input": [
      "def df_from_json(data_formated, ingredients):\n",
      "    ret = []\n",
      "    for entry in data_formated:\n",
      "        line = binary_ingredient(entry,ingredients)\n",
      "        line['id'] = entry['id']\n",
      "        line['cuisine'] = entry['cuisine']\n",
      "        ret.append(line)\n",
      "    return pd.DataFrame(ret)"
     ],
     "language": "python",
     "metadata": {},
     "outputs": [],
     "prompt_number": 11
    },
    {
     "cell_type": "code",
     "collapsed": false,
     "input": [
      "def get_score(df):\n",
      "    rf = RandomForestClassifier(n_estimators=200)\n",
      "    scores = cross_val_score(rf, df[ingredients], df['cuisine'], cv=5)\n",
      "    return np.mean(scores)"
     ],
     "language": "python",
     "metadata": {},
     "outputs": [],
     "prompt_number": 12
    },
    {
     "cell_type": "code",
     "collapsed": false,
     "input": [
      "train_formated = format_ingredient_data(train)"
     ],
     "language": "python",
     "metadata": {},
     "outputs": [],
     "prompt_number": 13
    },
    {
     "cell_type": "code",
     "collapsed": false,
     "input": [
      "best_score = {'score': 0, 'count1': 0, 'count2': 0}\n",
      "for count1 in range(10,50):\n",
      "    for count2 in range(1,10):\n",
      "        ingredients = get_ingredients(train_formated,count1,count1+count2)\n",
      "        df = df_from_json(train_formated,ingredients)\n",
      "        score = get_score(df)\n",
      "        if score > best_score['score']:\n",
      "            best_score['score'] = score\n",
      "            best_score['count1'] = count1\n",
      "            best_score['count2'] = count2"
     ],
     "language": "python",
     "metadata": {},
     "outputs": [],
     "prompt_number": 14
    },
    {
     "cell_type": "code",
     "collapsed": false,
     "input": [
      "best_score"
     ],
     "language": "python",
     "metadata": {},
     "outputs": [
      {
       "metadata": {},
       "output_type": "pyout",
       "prompt_number": 15,
       "text": [
        "{'count1': 49, 'count2': 4, 'score': 0.71961471865718418}"
       ]
      }
     ],
     "prompt_number": 15
    },
    {
     "cell_type": "code",
     "collapsed": false,
     "input": [
      "ingredients = []\n",
      "cuisines = get_cuisines(train_formated)\n",
      "for cuisine in cuisines:\n",
      "    ingredients.extend(x for x in get_ingredient_for_cuisine(train_formated,cuisine,45)[:42] if x not in ingredients)"
     ],
     "language": "python",
     "metadata": {},
     "outputs": [],
     "prompt_number": 16
    },
    {
     "cell_type": "code",
     "collapsed": false,
     "input": [
      "train_data = []\n",
      "for entry in train_formated:\n",
      "    line = binary_ingredient(entry,ingredients)\n",
      "    line['id'] = entry['id']\n",
      "    line['cuisine'] = entry['cuisine']\n",
      "    train_data.append(line)\n",
      "train_df = pd.DataFrame(train_data)"
     ],
     "language": "python",
     "metadata": {},
     "outputs": [],
     "prompt_number": 17
    },
    {
     "cell_type": "code",
     "collapsed": false,
     "input": [
      "ingredients = get_ingredients(train_formated,49,58)\n",
      "df_train = df_from_json(train_formated,ingredients)"
     ],
     "language": "python",
     "metadata": {},
     "outputs": [],
     "prompt_number": 18
    },
    {
     "cell_type": "code",
     "collapsed": false,
     "input": [
      "train_df.to_csv('train.csv')"
     ],
     "language": "python",
     "metadata": {},
     "outputs": [],
     "prompt_number": 19
    },
    {
     "cell_type": "code",
     "collapsed": false,
     "input": [
      "test_formated = format_ingredient_data(test)\n",
      "df_test = df_from_json(test_formated,ingredients)"
     ],
     "language": "python",
     "metadata": {},
     "outputs": [],
     "prompt_number": 20
    },
    {
     "cell_type": "code",
     "collapsed": false,
     "input": [
      "rf = RandomForestClassifier(n_estimators=200)\n",
      "rf.fit(df_train[ingredients], df_train['cuisine'])"
     ],
     "language": "python",
     "metadata": {},
     "outputs": [
      {
       "metadata": {},
       "output_type": "pyout",
       "prompt_number": 21,
       "text": [
        "RandomForestClassifier(bootstrap=True, class_weight=None, criterion='gini',\n",
        "            max_depth=None, max_features='auto', max_leaf_nodes=None,\n",
        "            min_samples_leaf=1, min_samples_split=2,\n",
        "            min_weight_fraction_leaf=0.0, n_estimators=200, n_jobs=1,\n",
        "            oob_score=False, random_state=None, verbose=0,\n",
        "            warm_start=False)"
       ]
      }
     ],
     "prompt_number": 21
    },
    {
     "cell_type": "code",
     "collapsed": false,
     "input": [
      "predicts = rf.predict(df_test[ingredients])"
     ],
     "language": "python",
     "metadata": {},
     "outputs": [],
     "prompt_number": 24
    },
    {
     "cell_type": "code",
     "collapsed": false,
     "input": [
      "df_test['cuisine'] = predicts"
     ],
     "language": "python",
     "metadata": {},
     "outputs": [],
     "prompt_number": 25
    },
    {
     "cell_type": "code",
     "collapsed": false,
     "input": [
      "df_test[['id','cuisine']].to_csv('submission.csv',index=False)\n",
      "df_test.head()"
     ],
     "language": "python",
     "metadata": {},
     "outputs": [
      {
       "html": [
        "<div style=\"max-height:1000px;max-width:1500px;overflow:auto;\">\n",
        "<table border=\"1\" class=\"dataframe\">\n",
        "  <thead>\n",
        "    <tr style=\"text-align: right;\">\n",
        "      <th></th>\n",
        "      <th>allspice</th>\n",
        "      <th>almond</th>\n",
        "      <th>apple</th>\n",
        "      <th>apricot</th>\n",
        "      <th>avocado</th>\n",
        "      <th>bacon</th>\n",
        "      <th>banana</th>\n",
        "      <th>base</th>\n",
        "      <th>basil</th>\n",
        "      <th>bay</th>\n",
        "      <th>...</th>\n",
        "      <th>whiskey</th>\n",
        "      <th>white</th>\n",
        "      <th>wine</th>\n",
        "      <th>worcestershire</th>\n",
        "      <th>wrapper</th>\n",
        "      <th>yeast</th>\n",
        "      <th>yoghurt</th>\n",
        "      <th>yogurt</th>\n",
        "      <th>yolk</th>\n",
        "      <th>zucchini</th>\n",
        "    </tr>\n",
        "  </thead>\n",
        "  <tbody>\n",
        "    <tr>\n",
        "      <th>0</th>\n",
        "      <td> 0</td>\n",
        "      <td> 0</td>\n",
        "      <td> 0</td>\n",
        "      <td> 0</td>\n",
        "      <td> 0</td>\n",
        "      <td> 0</td>\n",
        "      <td> 0</td>\n",
        "      <td> 0</td>\n",
        "      <td> 0</td>\n",
        "      <td> 0</td>\n",
        "      <td>...</td>\n",
        "      <td> 0</td>\n",
        "      <td> 0</td>\n",
        "      <td> 0</td>\n",
        "      <td> 0</td>\n",
        "      <td> 0</td>\n",
        "      <td> 0</td>\n",
        "      <td> 0</td>\n",
        "      <td> 0</td>\n",
        "      <td> 0</td>\n",
        "      <td> 0</td>\n",
        "    </tr>\n",
        "    <tr>\n",
        "      <th>1</th>\n",
        "      <td> 0</td>\n",
        "      <td> 0</td>\n",
        "      <td> 0</td>\n",
        "      <td> 0</td>\n",
        "      <td> 0</td>\n",
        "      <td> 0</td>\n",
        "      <td> 1</td>\n",
        "      <td> 0</td>\n",
        "      <td> 0</td>\n",
        "      <td> 0</td>\n",
        "      <td>...</td>\n",
        "      <td> 0</td>\n",
        "      <td> 1</td>\n",
        "      <td> 0</td>\n",
        "      <td> 0</td>\n",
        "      <td> 0</td>\n",
        "      <td> 0</td>\n",
        "      <td> 0</td>\n",
        "      <td> 0</td>\n",
        "      <td> 1</td>\n",
        "      <td> 0</td>\n",
        "    </tr>\n",
        "    <tr>\n",
        "      <th>2</th>\n",
        "      <td> 0</td>\n",
        "      <td> 0</td>\n",
        "      <td> 0</td>\n",
        "      <td> 0</td>\n",
        "      <td> 0</td>\n",
        "      <td> 0</td>\n",
        "      <td> 0</td>\n",
        "      <td> 0</td>\n",
        "      <td> 0</td>\n",
        "      <td> 0</td>\n",
        "      <td>...</td>\n",
        "      <td> 0</td>\n",
        "      <td> 0</td>\n",
        "      <td> 0</td>\n",
        "      <td> 0</td>\n",
        "      <td> 0</td>\n",
        "      <td> 0</td>\n",
        "      <td> 0</td>\n",
        "      <td> 0</td>\n",
        "      <td> 0</td>\n",
        "      <td> 0</td>\n",
        "    </tr>\n",
        "    <tr>\n",
        "      <th>3</th>\n",
        "      <td> 0</td>\n",
        "      <td> 0</td>\n",
        "      <td> 0</td>\n",
        "      <td> 0</td>\n",
        "      <td> 0</td>\n",
        "      <td> 0</td>\n",
        "      <td> 0</td>\n",
        "      <td> 0</td>\n",
        "      <td> 0</td>\n",
        "      <td> 0</td>\n",
        "      <td>...</td>\n",
        "      <td> 0</td>\n",
        "      <td> 0</td>\n",
        "      <td> 0</td>\n",
        "      <td> 0</td>\n",
        "      <td> 0</td>\n",
        "      <td> 0</td>\n",
        "      <td> 0</td>\n",
        "      <td> 0</td>\n",
        "      <td> 0</td>\n",
        "      <td> 0</td>\n",
        "    </tr>\n",
        "    <tr>\n",
        "      <th>4</th>\n",
        "      <td> 0</td>\n",
        "      <td> 0</td>\n",
        "      <td> 0</td>\n",
        "      <td> 0</td>\n",
        "      <td> 0</td>\n",
        "      <td> 0</td>\n",
        "      <td> 0</td>\n",
        "      <td> 0</td>\n",
        "      <td> 0</td>\n",
        "      <td> 0</td>\n",
        "      <td>...</td>\n",
        "      <td> 0</td>\n",
        "      <td> 0</td>\n",
        "      <td> 0</td>\n",
        "      <td> 0</td>\n",
        "      <td> 0</td>\n",
        "      <td> 0</td>\n",
        "      <td> 0</td>\n",
        "      <td> 0</td>\n",
        "      <td> 0</td>\n",
        "      <td> 0</td>\n",
        "    </tr>\n",
        "  </tbody>\n",
        "</table>\n",
        "<p>5 rows \u00d7 195 columns</p>\n",
        "</div>"
       ],
       "metadata": {},
       "output_type": "pyout",
       "prompt_number": 27,
       "text": [
        "   allspice  almond  apple  apricot  avocado  bacon  banana  base  basil  bay  \\\n",
        "0         0       0      0        0        0      0       0     0      0    0   \n",
        "1         0       0      0        0        0      0       1     0      0    0   \n",
        "2         0       0      0        0        0      0       0     0      0    0   \n",
        "3         0       0      0        0        0      0       0     0      0    0   \n",
        "4         0       0      0        0        0      0       0     0      0    0   \n",
        "\n",
        "     ...     whiskey  white  wine  worcestershire  wrapper  yeast  yoghurt  \\\n",
        "0    ...           0      0     0               0        0      0        0   \n",
        "1    ...           0      1     0               0        0      0        0   \n",
        "2    ...           0      0     0               0        0      0        0   \n",
        "3    ...           0      0     0               0        0      0        0   \n",
        "4    ...           0      0     0               0        0      0        0   \n",
        "\n",
        "   yogurt  yolk  zucchini  \n",
        "0       0     0         0  \n",
        "1       0     1         0  \n",
        "2       0     0         0  \n",
        "3       0     0         0  \n",
        "4       0     0         0  \n",
        "\n",
        "[5 rows x 195 columns]"
       ]
      }
     ],
     "prompt_number": 27
    },
    {
     "cell_type": "code",
     "collapsed": false,
     "input": [],
     "language": "python",
     "metadata": {},
     "outputs": []
    }
   ],
   "metadata": {}
  }
 ]
}