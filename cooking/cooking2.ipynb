{
 "metadata": {
  "name": "",
  "signature": "sha256:b48f17b44ea26fe82257edd38f3f54f60bbf420a0eea17507621dabc10493b97"
 },
 "nbformat": 3,
 "nbformat_minor": 0,
 "worksheets": [
  {
   "cells": [
    {
     "cell_type": "code",
     "collapsed": false,
     "input": [
      "import pandas as pd\n",
      "import numpy as np\n",
      "import json\n",
      "import collections\n",
      "import copy\n",
      "from sklearn.ensemble import RandomForestClassifier\n",
      "from sklearn.cross_validation import cross_val_score"
     ],
     "language": "python",
     "metadata": {},
     "outputs": [],
     "prompt_number": 80
    },
    {
     "cell_type": "code",
     "collapsed": false,
     "input": [
      "json_data=open('train.json').read()\n",
      "train = json.loads(json_data)"
     ],
     "language": "python",
     "metadata": {},
     "outputs": [],
     "prompt_number": 81
    },
    {
     "cell_type": "code",
     "collapsed": false,
     "input": [
      "def is_in_different_cuisine(cuisine,ingredient,json_entries):\n",
      "    for json_entry in json_entries:\n",
      "        if json_entry['cuisine'] != cuisine and ingredient in json_entry['ingredients']:\n",
      "            return True\n",
      "    return False"
     ],
     "language": "python",
     "metadata": {},
     "outputs": [],
     "prompt_number": 82
    },
    {
     "cell_type": "code",
     "collapsed": false,
     "input": [
      "def get_cuisine_unique_ingredients(json_entries):\n",
      "    ret = {}\n",
      "    for json_entry in json_entries:\n",
      "        for ingredient in json_entry['ingredients']:\n",
      "            unique = is_in_different_cuisine(json_entry['cuisine'],ingredient,json_entries)\n",
      "            if unique == False:\n",
      "                if json_entry['cuisine'] not in ret:\n",
      "                    ret[json_entry['cuisine']] = []\n",
      "                ret[json_entry['cuisine']].append(ingredient)\n",
      "    return ret"
     ],
     "language": "python",
     "metadata": {},
     "outputs": [],
     "prompt_number": 83
    },
    {
     "cell_type": "code",
     "collapsed": false,
     "input": [
      "def is_list_entry_in_list(list1,list2):\n",
      "    for entry1 in list1:\n",
      "        match = entry1 in list2\n",
      "        if match:\n",
      "            return True\n",
      "    return False"
     ],
     "language": "python",
     "metadata": {},
     "outputs": [],
     "prompt_number": 84
    },
    {
     "cell_type": "code",
     "collapsed": false,
     "input": [
      "def add_guess(json_entries, unique_ingredients):\n",
      "    for json_entry in json_entries:\n",
      "        json_entry['guess'] = dict.fromkeys(unique_ingredients.keys(), 0)\n",
      "        for cuisine, ingredients in unique_ingredients.iteritems():\n",
      "            match = is_list_entry_in_list(json_entry['ingredients'],ingredients)\n",
      "            json_entry['guess'][cuisine] = 1 if match else 0"
     ],
     "language": "python",
     "metadata": {},
     "outputs": [],
     "prompt_number": 85
    },
    {
     "cell_type": "code",
     "collapsed": false,
     "input": [
      "def get_top_ingredients(json_entries,top_count=40):\n",
      "    ret = {}\n",
      "    complete_ingredients = {}\n",
      "    for json_entry in json_entries:\n",
      "        if json_entry['cuisine'] not in complete_ingredients:\n",
      "            complete_ingredients[json_entry['cuisine']] = []\n",
      "        complete_ingredients[json_entry['cuisine']].extend(json_entry['ingredients'])\n",
      "    for cuisine, ingredients in complete_ingredients.iteritems():\n",
      "        ingredient_counts = collections.Counter(ingredients)\n",
      "        ret[cuisine] = sorted(ingredient_counts,key=ingredient_counts.__getitem__,reverse=True)[:top_count]\n",
      "    return ret"
     ],
     "language": "python",
     "metadata": {},
     "outputs": [],
     "prompt_number": 86
    },
    {
     "cell_type": "code",
     "collapsed": false,
     "input": [
      "def get_top_unique_ingredients(top_ingredients):\n",
      "    ret = []\n",
      "    for cuisine, ingredients in top_ingredients.iteritems():\n",
      "        [ret.append(ingredient) for ingredient in ingredients if ingredient not in ret]\n",
      "    return ret"
     ],
     "language": "python",
     "metadata": {},
     "outputs": [],
     "prompt_number": 87
    },
    {
     "cell_type": "code",
     "collapsed": false,
     "input": [
      "def binary_ingredient(entry,ingredients):\n",
      "    ret = {}\n",
      "    for ingredient in ingredients:\n",
      "        ret[ingredient] = 1 if ingredient in entry['ingredients'] else 0\n",
      "    return ret"
     ],
     "language": "python",
     "metadata": {},
     "outputs": [],
     "prompt_number": 88
    },
    {
     "cell_type": "code",
     "collapsed": false,
     "input": [
      "def df_from_json(data_formated, ingredients):\n",
      "    ret = []\n",
      "    for entry in data_formated:\n",
      "        line = binary_ingredient(entry,ingredients)\n",
      "        line['id'] = entry['id']\n",
      "        line['cuisine'] = entry['cuisine']\n",
      "        for guess, guess_value in entry['guess'].iteritems():\n",
      "            line[guess] = guess_value\n",
      "        ret.append(line)\n",
      "    return pd.DataFrame(ret)"
     ],
     "language": "python",
     "metadata": {},
     "outputs": [],
     "prompt_number": 89
    },
    {
     "cell_type": "code",
     "collapsed": false,
     "input": [
      "unique_ingredients = get_cuisine_unique_ingredients(train)"
     ],
     "language": "python",
     "metadata": {},
     "outputs": [],
     "prompt_number": 90
    },
    {
     "cell_type": "code",
     "collapsed": false,
     "input": [
      "add_guess(train,unique_ingredients)"
     ],
     "language": "python",
     "metadata": {},
     "outputs": [],
     "prompt_number": 91
    },
    {
     "cell_type": "code",
     "collapsed": false,
     "input": [
      "top_ingredients = get_top_ingredients(train)"
     ],
     "language": "python",
     "metadata": {},
     "outputs": [],
     "prompt_number": 92
    },
    {
     "cell_type": "code",
     "collapsed": false,
     "input": [
      "unique_top_ingredients = get_top_unique_ingredients(top_ingredients)"
     ],
     "language": "python",
     "metadata": {},
     "outputs": [],
     "prompt_number": 93
    },
    {
     "cell_type": "code",
     "collapsed": false,
     "input": [
      "df_train = df_from_json(train,unique_top_ingredients)"
     ],
     "language": "python",
     "metadata": {},
     "outputs": [],
     "prompt_number": 94
    },
    {
     "cell_type": "code",
     "collapsed": false,
     "input": [
      "columns = copy.copy(unique_top_ingredients)\n",
      "columns.extend(top_ingredients.keys())"
     ],
     "language": "python",
     "metadata": {},
     "outputs": [],
     "prompt_number": 95
    },
    {
     "cell_type": "code",
     "collapsed": false,
     "input": [
      "rf = RandomForestClassifier(n_estimators=200)\n",
      "scores = cross_val_score(rf, df_train[columns], df_train['cuisine'], cv=5)"
     ],
     "language": "python",
     "metadata": {},
     "outputs": [],
     "prompt_number": 96
    },
    {
     "cell_type": "code",
     "collapsed": false,
     "input": [
      "np.mean(scores)"
     ],
     "language": "python",
     "metadata": {},
     "outputs": [
      {
       "metadata": {},
       "output_type": "pyout",
       "prompt_number": 97,
       "text": [
        "0.6819046321590656"
       ]
      }
     ],
     "prompt_number": 97
    },
    {
     "cell_type": "code",
     "collapsed": false,
     "input": [],
     "language": "python",
     "metadata": {},
     "outputs": [],
     "prompt_number": 97
    }
   ],
   "metadata": {}
  }
 ]
}